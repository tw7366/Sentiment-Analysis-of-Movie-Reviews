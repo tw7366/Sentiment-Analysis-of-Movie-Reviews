{
  "nbformat": 4,
  "nbformat_minor": 0,
  "metadata": {
    "colab": {
      "name": "Sentiment Analysis of Movie Reviews.ipynb",
      "provenance": [],
      "mount_file_id": "19WntYl02GGdh6VjuUNEe3RwmeagqM4eW",
      "authorship_tag": "ABX9TyNHV81KmDahXcVp1oQdfSH+",
      "include_colab_link": true
    },
    "kernelspec": {
      "name": "python3",
      "display_name": "Python 3"
    },
    "accelerator": "GPU"
  },
  "cells": [
    {
      "cell_type": "markdown",
      "metadata": {
        "id": "view-in-github",
        "colab_type": "text"
      },
      "source": [
        "<a href=\"https://colab.research.google.com/github/tw7366/Sentiment-Analysis-of-Movie-Reviews/blob/master/Sentiment%20Analysis%20of%20Movie%20Reviews.ipynb\" target=\"_parent\"><img src=\"https://colab.research.google.com/assets/colab-badge.svg\" alt=\"Open In Colab\"/></a>"
      ]
    },
    {
      "cell_type": "code",
      "metadata": {
        "id": "5rbam0TjVrXs"
      },
      "source": [
        "from tensorflow.keras.preprocessing.text import Tokenizer\n",
        "from tensorflow.keras.preprocessing.sequence import pad_sequences\n",
        "from tensorflow import keras\n",
        "import tensorflow as tf\n",
        "import pandas as pd\n",
        "import numpy as np\n",
        "import re"
      ],
      "execution_count": 1,
      "outputs": []
    },
    {
      "cell_type": "code",
      "metadata": {
        "id": "RMMcVpT8CErJ",
        "outputId": "4fc0accd-780d-423e-d3dd-981bfdd29e47",
        "colab": {
          "base_uri": "https://localhost:8080/",
          "height": 92
        }
      },
      "source": [
        "reviews_df=pd.read_csv('drive/My Drive/IMDB Dataset.csv')\n",
        "reviews = np.array(reviews_df['review'])\n",
        "sentiment = np.array(reviews_df['sentiment'])\n",
        "print(reviews[:3])"
      ],
      "execution_count": 2,
      "outputs": [
        {
          "output_type": "stream",
          "text": [
            "[\"One of the other reviewers has mentioned that after watching just 1 Oz episode you'll be hooked. They are right, as this is exactly what happened with me.<br /><br />The first thing that struck me about Oz was its brutality and unflinching scenes of violence, which set in right from the word GO. Trust me, this is not a show for the faint hearted or timid. This show pulls no punches with regards to drugs, sex or violence. Its is hardcore, in the classic use of the word.<br /><br />It is called OZ as that is the nickname given to the Oswald Maximum Security State Penitentary. It focuses mainly on Emerald City, an experimental section of the prison where all the cells have glass fronts and face inwards, so privacy is not high on the agenda. Em City is home to many..Aryans, Muslims, gangstas, Latinos, Christians, Italians, Irish and more....so scuffles, death stares, dodgy dealings and shady agreements are never far away.<br /><br />I would say the main appeal of the show is due to the fact that it goes where other shows wouldn't dare. Forget pretty pictures painted for mainstream audiences, forget charm, forget romance...OZ doesn't mess around. The first episode I ever saw struck me as so nasty it was surreal, I couldn't say I was ready for it, but as I watched more, I developed a taste for Oz, and got accustomed to the high levels of graphic violence. Not just violence, but injustice (crooked guards who'll be sold out for a nickel, inmates who'll kill on order and get away with it, well mannered, middle class inmates being turned into prison bitches due to their lack of street skills or prison experience) Watching Oz, you may become comfortable with what is uncomfortable viewing....thats if you can get in touch with your darker side.\"\n",
            " 'A wonderful little production. <br /><br />The filming technique is very unassuming- very old-time-BBC fashion and gives a comforting, and sometimes discomforting, sense of realism to the entire piece. <br /><br />The actors are extremely well chosen- Michael Sheen not only \"has got all the polari\" but he has all the voices down pat too! You can truly see the seamless editing guided by the references to Williams\\' diary entries, not only is it well worth the watching but it is a terrificly written and performed piece. A masterful production about one of the great master\\'s of comedy and his life. <br /><br />The realism really comes home with the little things: the fantasy of the guard which, rather than use the traditional \\'dream\\' techniques remains solid then disappears. It plays on our knowledge and our senses, particularly with the scenes concerning Orton and Halliwell and the sets (particularly of their flat with Halliwell\\'s murals decorating every surface) are terribly well done.'\n",
            " 'I thought this was a wonderful way to spend time on a too hot summer weekend, sitting in the air conditioned theater and watching a light-hearted comedy. The plot is simplistic, but the dialogue is witty and the characters are likable (even the well bread suspected serial killer). While some may be disappointed when they realize this is not Match Point 2: Risk Addiction, I thought it was proof that Woody Allen is still fully in control of the style many of us have grown to love.<br /><br />This was the most I\\'d laughed at one of Woody\\'s comedies in years (dare I say a decade?). While I\\'ve never been impressed with Scarlet Johanson, in this she managed to tone down her \"sexy\" image and jumped right into a average, but spirited young woman.<br /><br />This may not be the crown jewel of his career, but it was wittier than \"Devil Wears Prada\" and more interesting than \"Superman\" a great comedy to go see with friends.']\n"
          ],
          "name": "stdout"
        }
      ]
    },
    {
      "cell_type": "markdown",
      "metadata": {
        "id": "EfTmGY7IzQQK"
      },
      "source": [
        "### **Text Normalization & Preprocessing**"
      ]
    },
    {
      "cell_type": "code",
      "metadata": {
        "id": "7WfnKf91VxkJ"
      },
      "source": [
        "import nltk\n",
        "# nltk.download('stopwords')\n",
        "# nltk.download('punkt')\n",
        "# nltk.download('wordnet')\n",
        "from nltk.corpus import stopwords\n",
        "from nltk.tokenize import word_tokenize\n",
        "from nltk import WordNetLemmatizer\n",
        "\n",
        "\n",
        "\n",
        "stops = set(stopwords.words(\"english\"))\n",
        "lemma = WordNetLemmatizer()\n",
        "\n",
        "def preprocess_review(review_list):\n",
        "    \"\"\"\n",
        "    param: a list of string\n",
        "    return: a list of string\n",
        "    preprocess reviews by changing all alphabets to lowercase, removing punctuations, and cleaning html leftover code\n",
        "    \"\"\"\n",
        "    for i, review in enumerate(review_list):\n",
        "        review = review.replace('<br /><br />', ' ')\n",
        "        review = review.lower()\n",
        "        review = re.sub(r\"[^A-Za-z0-9' ]+\", '', review)\n",
        "        review = review.replace('  ', ' ')\n",
        "        review_list[i] = review\n",
        "    return review_list\n",
        "\n",
        "\n",
        "def remove_stops(string_list):\n",
        "  \"\"\"\n",
        "  param: a list of strings\n",
        "  return: a list of strings without stopwords\n",
        "  remove all stopwords from a list\n",
        "  \"\"\"\n",
        "  # tokenized_list = []\n",
        "  # final_list = []\n",
        "\n",
        "  # tokenize words\n",
        "  for i, string in enumerate(string_list):\n",
        "    pre_filtered = word_tokenize(string)\n",
        "    filtered = [lemma.lemmatize(word, pos = \"v\") for word in pre_filtered]\n",
        "    filtered = [lemma.lemmatize(word, pos = \"n\") for word in filtered]\n",
        "    filtered = [word for word in filtered if not word in stops]\n",
        "    filtered_string = ' '.join(filtered)\n",
        "    string_list[i] = filtered_string \n",
        "  return string_list\n",
        "\n",
        "\n",
        "preprocessed_reviews = preprocess_review(reviews)\n",
        "preprocessed_reviews = remove_stops(preprocessed_reviews)"
      ],
      "execution_count": 3,
      "outputs": []
    },
    {
      "cell_type": "markdown",
      "metadata": {
        "id": "dNt9KU7lzZ5w"
      },
      "source": [
        "### **Building a Sequential Model**\n"
      ]
    },
    {
      "cell_type": "code",
      "metadata": {
        "id": "tGlwUksABoH6"
      },
      "source": [
        "# to divide train & test sets\n",
        "test_sample_size = int(0.1*len(preprocessed_reviews))  # 10% of data as the validation set\n",
        "\n",
        "# for sentiment\n",
        "sentiment = [1 if x=='positive' else 0 for x in sentiment]\n",
        "\n",
        "# separate data to train & test sets\n",
        "X_test, X_train = (np.array(preprocessed_reviews[:test_sample_size]), \n",
        "                   np.array(preprocessed_reviews[test_sample_size:])\n",
        ")\n",
        "\n",
        "y_test, y_train = (np.array(sentiment[:test_sample_size]), \n",
        "                   np.array(sentiment[test_sample_size:])\n",
        ")\n",
        "\n",
        "\n",
        "tokenizer = Tokenizer(oov_token='<OOV>')  # for the unknown words\n",
        "tokenizer.fit_on_texts(X_train)\n",
        "\n",
        "vocab_count = len(tokenizer.word_index) + 1  # +1 is for padding\n",
        "\n",
        "# create padded sequences\n",
        "training_sequences = tokenizer.texts_to_sequences(X_train)  # tokenizer.word_index to see indexes\n",
        "training_padded = pad_sequences(training_sequences, padding='post')  # pad sequences with 0s\n",
        "\n",
        "testing_sequences = tokenizer.texts_to_sequences(X_test)  # tokenizer.word_index to see indexes\n",
        "testing_padded = pad_sequences(testing_sequences, padding='post')  # pad sequences with 0s\n",
        "\n",
        "input_length = len(testing_padded[0])  # length of all sequences"
      ],
      "execution_count": 4,
      "outputs": []
    },
    {
      "cell_type": "code",
      "metadata": {
        "id": "3jlZt71XTluA",
        "outputId": "df232d6a-3fbc-4d0c-ca19-0c33b36b9e43",
        "colab": {
          "base_uri": "https://localhost:8080/",
          "height": 361
        }
      },
      "source": [
        "# build a model\n",
        "model = keras.models.Sequential()\n",
        "model.add(keras.layers.Embedding(input_dim=vocab_count,\n",
        "                                 output_dim=4,\n",
        "                                 input_length=input_length,\n",
        "                                 mask_zero = True)\n",
        ")\n",
        "model.add(keras.layers.GlobalAveragePooling1D())  # find the average of vectors to get sentiment\n",
        "model.add(keras.layers.Dense(128, activation='relu'))  # hidden layer\n",
        "model.add(keras.layers.Dropout(0.2))\n",
        "model.add(keras.layers.Dense(1, activation='sigmoid'))  # output layer\n",
        "\n",
        "model.compile(optimizer='adam',\n",
        "              loss='binary_crossentropy',\n",
        "              metrics=['accuracy'])\n",
        "\n",
        "print(model.summary())"
      ],
      "execution_count": 5,
      "outputs": [
        {
          "output_type": "stream",
          "text": [
            "Model: \"sequential\"\n",
            "_________________________________________________________________\n",
            "Layer (type)                 Output Shape              Param #   \n",
            "=================================================================\n",
            "embedding (Embedding)        (None, 947, 4)            547012    \n",
            "_________________________________________________________________\n",
            "global_average_pooling1d (Gl (None, 4)                 0         \n",
            "_________________________________________________________________\n",
            "dense (Dense)                (None, 128)               640       \n",
            "_________________________________________________________________\n",
            "dropout (Dropout)            (None, 128)               0         \n",
            "_________________________________________________________________\n",
            "dense_1 (Dense)              (None, 1)                 129       \n",
            "=================================================================\n",
            "Total params: 547,781\n",
            "Trainable params: 547,781\n",
            "Non-trainable params: 0\n",
            "_________________________________________________________________\n",
            "None\n"
          ],
          "name": "stdout"
        }
      ]
    },
    {
      "cell_type": "code",
      "metadata": {
        "id": "60n8u11yDx7u",
        "outputId": "e814fa26-528a-4870-94db-c2484ca1dbb8",
        "colab": {
          "base_uri": "https://localhost:8080/",
          "height": 289
        }
      },
      "source": [
        "model.fit(training_padded, y_train, epochs=6, batch_size=512,\n",
        "          validation_data=(testing_padded, y_test)\n",
        ")"
      ],
      "execution_count": 6,
      "outputs": [
        {
          "output_type": "stream",
          "text": [
            "Epoch 1/6\n",
            "WARNING:tensorflow:Model was constructed with shape (None, 947) for input Tensor(\"embedding_input:0\", shape=(None, 947), dtype=float32), but it was called on an input with incompatible shape (None, 1458).\n",
            "WARNING:tensorflow:Model was constructed with shape (None, 947) for input Tensor(\"embedding_input:0\", shape=(None, 947), dtype=float32), but it was called on an input with incompatible shape (None, 1458).\n",
            "88/88 [==============================] - 2s 28ms/step - loss: 0.6782 - accuracy: 0.7111 - val_loss: 0.6381 - val_accuracy: 0.8240\n",
            "Epoch 2/6\n",
            "88/88 [==============================] - 2s 26ms/step - loss: 0.5366 - accuracy: 0.8381 - val_loss: 0.4300 - val_accuracy: 0.8590\n",
            "Epoch 3/6\n",
            "88/88 [==============================] - 2s 26ms/step - loss: 0.3505 - accuracy: 0.8791 - val_loss: 0.3119 - val_accuracy: 0.8868\n",
            "Epoch 4/6\n",
            "88/88 [==============================] - 2s 26ms/step - loss: 0.2615 - accuracy: 0.9048 - val_loss: 0.2694 - val_accuracy: 0.8970\n",
            "Epoch 5/6\n",
            "88/88 [==============================] - 2s 26ms/step - loss: 0.2150 - accuracy: 0.9225 - val_loss: 0.2513 - val_accuracy: 0.9008\n",
            "Epoch 6/6\n",
            "88/88 [==============================] - 2s 26ms/step - loss: 0.1834 - accuracy: 0.9355 - val_loss: 0.2433 - val_accuracy: 0.9040\n"
          ],
          "name": "stdout"
        },
        {
          "output_type": "execute_result",
          "data": {
            "text/plain": [
              "<tensorflow.python.keras.callbacks.History at 0x7f7db2170d30>"
            ]
          },
          "metadata": {
            "tags": []
          },
          "execution_count": 6
        }
      ]
    },
    {
      "cell_type": "code",
      "metadata": {
        "id": "cZqSdsv4PquR",
        "outputId": "94fad6ce-0a9f-4311-a6cb-66a8fda70a36",
        "colab": {
          "base_uri": "https://localhost:8080/",
          "height": 35
        }
      },
      "source": [
        "y_prediction = model.predict(testing_padded)\n",
        "y_prediction = np.array([0 if x <= 0.5 else 1 for x in y_prediction])\n",
        "index_list = []\n",
        "for i, (y_real, y_predict) in enumerate(zip(y_test, y_prediction)):\n",
        "  if y_real != y_predict:\n",
        "    index_list.append(i)\n",
        "print(f'Predicted {len(index_list)} wrong of {len(y_prediction)}')"
      ],
      "execution_count": 7,
      "outputs": [
        {
          "output_type": "stream",
          "text": [
            "Predicted 480 wrong of 5000\n"
          ],
          "name": "stdout"
        }
      ]
    },
    {
      "cell_type": "code",
      "metadata": {
        "id": "7ll59I04vl0M",
        "outputId": "c2f53cbc-8c66-431d-8bae-978a70501200",
        "colab": {
          "base_uri": "https://localhost:8080/",
          "height": 472
        }
      },
      "source": [
        "for i, item in enumerate(index_list):\n",
        "    if i <= 5:\n",
        "        print(X_test[item])\n",
        "        print(f'Prediction: {y_prediction[item]}')\n",
        "        print(f'Sentiment: {y_test[item]}')\n",
        "        print('============================')"
      ],
      "execution_count": 8,
      "outputs": [
        {
          "output_type": "stream",
          "text": [
            "sure would like see resurrection date seahunt series tech today would bring back kid excitement mei grow black white tv seahunt gunsmoke hero 's every weekyou vote comeback new sea huntwe need change pace tv would work world water adventureoh way thank outlet like view many viewpoint tv many moviesso ole way believe 've get wan na saywould nice read plus point sea huntif rhyme would 10 line would let submitor leave doubt quitif must go let\n",
            "Prediction: 0\n",
            "Sentiment: 1\n",
            "============================\n",
            "cast play shakespeare shakespeare lose appreciate try bring shakespeare mass ruin something good 'the scottish play ' favorite shakespeare know know certain rev bowdler hence bowdlerization try something similar victorian era word improve perfection write write least ten line text english composition never forte keep go say movie say go cut\n",
            "Prediction: 1\n",
            "Sentiment: 0\n",
            "============================\n",
            "film simply remake one bad film fail capture flavor terror 1963 film title liam neeson excellent always cast hold exception owen wilson bring right feel character luke major fault version stray far shirley jackson story 's attempt grandiose lose thrill earlier film trade snazzier special effect say bad film enjoy friction terror older version much\n",
            "Prediction: 0\n",
            "Sentiment: 1\n",
            "============================\n",
            "bela lugosi appear several low budget chiller monogram studio 1940 's corpse vanish one better one bela play mad scientist kidnap young bride kill extract fluid body keep age wife look young reporter doctor stay night home discover responsible bride ' death follow morning report murder police mad scientist shoot drop dead shortly afterwards get almost everything movie scientist 's assistant consist old hag hunchback dwarf son thunderstorm spooky passage bela 's house bela wife find sleep better coffin rather bed movie corpse vanish worth look especially bela lugosi fan great fun rat 3 star 5\n",
            "Prediction: 0\n",
            "Sentiment: 1\n",
            "============================\n",
            "33 percent nation nitwit still support w bush would well see movie show aftermath french revolution terror 1794 strikingly similar post 911 sociopolitical landscape maybe could stop worry save face take awhupping deserve 's really shame politician ruin country vote ca n't deny right ever vote 've clearly show sense character really stand movie ambiguity character hopelessly doctrinaire robespierre haunt empty man simplistic reductive ideology ca n't help elucidate boundary safety totalitarianism execution murder selfdefense patriotism legalistic litmus test aggravate hopeless situation 's help create sound like belligerent overprivileged retard yale cheerleader know wojciech pszoniak blow slovenly deparidieu screen sympathetic robespierre plight 's comfort know shortly film end 'll jaw shoot send guillotine\n",
            "Prediction: 1\n",
            "Sentiment: 0\n",
            "============================\n",
            "really like salman kahn really disappoint see movie n't much plot appeal salman however look good movie look young refresh worth price dvd music bad quite nice usually indian movie least two three hour long short movie indian film american actress play movie television hit series hero ali larter act lot desire however look good indian dress wear movie lot desire hope salman lot better next movie thank\n",
            "Prediction: 1\n",
            "Sentiment: 0\n",
            "============================\n"
          ],
          "name": "stdout"
        }
      ]
    },
    {
      "cell_type": "markdown",
      "metadata": {
        "id": "QCDFvLkkvqIU"
      },
      "source": [
        "The model made good assumptions for most of them, but it got easily confused by noise\n"
      ]
    },
    {
      "cell_type": "markdown",
      "metadata": {
        "id": "YbnWtDS4D93N"
      },
      "source": [
        "### **Trying a different model: LSTM**\n"
      ]
    },
    {
      "cell_type": "code",
      "metadata": {
        "id": "J5o3OGe0P0rT"
      },
      "source": [
        "# y_test = [0 if x == 'negative' else 1 for x in y_test]\n",
        "\n",
        "# the model takes numpy arrays as inputs\n",
        "y_test = np.asarray(y_test).astype(np.float32)\n",
        "y_train = np.asarray(y_train).astype(np.float32)\n",
        "\n",
        "for i, (train_item, test_item) in enumerate(zip(training_padded, testing_padded)):\n",
        "    training_padded[i] = np.asarray(train_item).astype(np.float32)\n",
        "    testing_padded[i] = np.asarray(test_item).astype(np.float32)"
      ],
      "execution_count": 9,
      "outputs": []
    },
    {
      "cell_type": "code",
      "metadata": {
        "id": "NrAS0p3bEBZT",
        "outputId": "9d7d5d4f-bf9d-4b7c-f9b9-8771b2bb9457",
        "colab": {
          "base_uri": "https://localhost:8080/",
          "height": 361
        }
      },
      "source": [
        "from tensorflow.keras.layers import SpatialDropout1D, Embedding, LSTM, Bidirectional, Dense, Dropout\n",
        "\n",
        "new_model = keras.models.Sequential()\n",
        "new_model.add(Embedding(input_dim=vocab_count,\n",
        "                        output_dim=4,\n",
        "                        input_length=input_length))\n",
        "new_model.add(Bidirectional(tf.keras.layers.LSTM(32, dropout=0.2)))\n",
        "new_model.add(Dense(32, activation='relu'))\n",
        "new_model.add(Dropout(0.2))\n",
        "new_model.add(Dense(1, activation='sigmoid'))\n",
        "new_model.compile(optimizer='adam',\n",
        "                  loss='binary_crossentropy',\n",
        "                  metrics=['accuracy'])\n",
        "\n",
        "print(new_model.summary())"
      ],
      "execution_count": 10,
      "outputs": [
        {
          "output_type": "stream",
          "text": [
            "Model: \"sequential_1\"\n",
            "_________________________________________________________________\n",
            "Layer (type)                 Output Shape              Param #   \n",
            "=================================================================\n",
            "embedding_1 (Embedding)      (None, 947, 4)            547012    \n",
            "_________________________________________________________________\n",
            "bidirectional (Bidirectional (None, 64)                9472      \n",
            "_________________________________________________________________\n",
            "dense_2 (Dense)              (None, 32)                2080      \n",
            "_________________________________________________________________\n",
            "dropout_1 (Dropout)          (None, 32)                0         \n",
            "_________________________________________________________________\n",
            "dense_3 (Dense)              (None, 1)                 33        \n",
            "=================================================================\n",
            "Total params: 558,597\n",
            "Trainable params: 558,597\n",
            "Non-trainable params: 0\n",
            "_________________________________________________________________\n",
            "None\n"
          ],
          "name": "stdout"
        }
      ]
    },
    {
      "cell_type": "code",
      "metadata": {
        "id": "_QZJLU7hEH8Q",
        "outputId": "a7f21af3-938e-4ace-cf3e-043593c408a0",
        "colab": {
          "base_uri": "https://localhost:8080/",
          "height": 253
        }
      },
      "source": [
        "new_model.fit(training_padded, y_train, epochs=5, batch_size=512,  # after 3 epochs, it starts overfitting\n",
        "              validation_data=(testing_padded, y_test)\n",
        ")"
      ],
      "execution_count": 11,
      "outputs": [
        {
          "output_type": "stream",
          "text": [
            "Epoch 1/5\n",
            "WARNING:tensorflow:Model was constructed with shape (None, 947) for input Tensor(\"embedding_1_input:0\", shape=(None, 947), dtype=float32), but it was called on an input with incompatible shape (None, 1458).\n",
            "WARNING:tensorflow:Model was constructed with shape (None, 947) for input Tensor(\"embedding_1_input:0\", shape=(None, 947), dtype=float32), but it was called on an input with incompatible shape (None, 1458).\n",
            "88/88 [==============================] - 15s 166ms/step - loss: 0.6763 - accuracy: 0.5888 - val_loss: 0.5834 - val_accuracy: 0.7868\n",
            "Epoch 2/5\n",
            "88/88 [==============================] - 14s 160ms/step - loss: 0.4555 - accuracy: 0.8099 - val_loss: 0.3749 - val_accuracy: 0.8464\n",
            "Epoch 3/5\n",
            "88/88 [==============================] - 14s 161ms/step - loss: 0.2970 - accuracy: 0.8820 - val_loss: 0.3011 - val_accuracy: 0.8762\n",
            "Epoch 4/5\n",
            "88/88 [==============================] - 14s 161ms/step - loss: 0.2267 - accuracy: 0.9137 - val_loss: 0.3021 - val_accuracy: 0.8764\n",
            "Epoch 5/5\n",
            "88/88 [==============================] - 14s 161ms/step - loss: 0.1796 - accuracy: 0.9369 - val_loss: 0.3002 - val_accuracy: 0.8790\n"
          ],
          "name": "stdout"
        },
        {
          "output_type": "execute_result",
          "data": {
            "text/plain": [
              "<tensorflow.python.keras.callbacks.History at 0x7f7da0463c50>"
            ]
          },
          "metadata": {
            "tags": []
          },
          "execution_count": 11
        }
      ]
    },
    {
      "cell_type": "code",
      "metadata": {
        "id": "kRjoDDEaFQZI",
        "outputId": "5a69d0f5-6e30-41c5-f282-7411da7deb03",
        "colab": {
          "base_uri": "https://localhost:8080/",
          "height": 35
        }
      },
      "source": [
        "new_index_list = []\n",
        "new_predictions = new_model.predict(testing_padded)\n",
        "new_predictions = ['negative' if x <= 0.5 else 'positive' for x in new_predictions]\n",
        "y_test = ['negative' if x <= 0.5 else 'positive' for x in y_test]\n",
        "for i, (prediction, truth) in enumerate(zip(new_predictions, y_test)):\n",
        "    if prediction != truth:\n",
        "        new_index_list.append(i)\n",
        "\n",
        "print(f'The model has predicted {len(new_index_list)} wrong of {len(new_predictions)}')"
      ],
      "execution_count": 12,
      "outputs": [
        {
          "output_type": "stream",
          "text": [
            "The model has predicted 605 wrong of 5000\n"
          ],
          "name": "stdout"
        }
      ]
    },
    {
      "cell_type": "markdown",
      "metadata": {
        "id": "l1TCtsAC5hj3"
      },
      "source": [
        "Our previous model has performed better.\n",
        "\n",
        "I would like to reduce validation loss even more, but this is the furthest I could achieve"
      ]
    }
  ]
}