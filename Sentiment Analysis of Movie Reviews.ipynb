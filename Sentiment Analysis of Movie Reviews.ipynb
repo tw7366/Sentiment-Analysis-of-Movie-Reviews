{
  "nbformat": 4,
  "nbformat_minor": 0,
  "metadata": {
    "colab": {
      "name": "Sentiment Analysis of Movie Reviews.ipynb",
      "provenance": [],
      "mount_file_id": "19WntYl02GGdh6VjuUNEe3RwmeagqM4eW",
      "authorship_tag": "ABX9TyM6bu4KDH3jWZTfOxy7ZhQK",
      "include_colab_link": true
    },
    "kernelspec": {
      "name": "python3",
      "display_name": "Python 3"
    },
    "accelerator": "GPU"
  },
  "cells": [
    {
      "cell_type": "markdown",
      "metadata": {
        "id": "view-in-github",
        "colab_type": "text"
      },
      "source": [
        "<a href=\"https://colab.research.google.com/github/tw7366/Sentiment-Analysis-of-Movie-Reviews/blob/master/Sentiment%20Analysis%20of%20Movie%20Reviews.ipynb\" target=\"_parent\"><img src=\"https://colab.research.google.com/assets/colab-badge.svg\" alt=\"Open In Colab\"/></a>"
      ]
    },
    {
      "cell_type": "code",
      "metadata": {
        "id": "5rbam0TjVrXs"
      },
      "source": [
        "from tensorflow.keras.preprocessing.text import Tokenizer\n",
        "from tensorflow.keras.preprocessing.sequence import pad_sequences\n",
        "from tensorflow import keras\n",
        "import tensorflow as tf\n",
        "import pandas as pd\n",
        "import numpy as np\n",
        "import re"
      ],
      "execution_count": 1,
      "outputs": []
    },
    {
      "cell_type": "code",
      "metadata": {
        "id": "RMMcVpT8CErJ",
        "outputId": "f76fac73-78bb-4785-9e55-b961cdf6c406",
        "colab": {
          "base_uri": "https://localhost:8080/",
          "height": 92
        }
      },
      "source": [
        "reviews_df=pd.read_csv('drive/My Drive/IMDB Dataset.csv')\n",
        "reviews = np.array(reviews_df['review'])\n",
        "sentiment = np.array(reviews_df['sentiment'])\n",
        "print(reviews[:3])"
      ],
      "execution_count": 2,
      "outputs": [
        {
          "output_type": "stream",
          "text": [
            "[\"One of the other reviewers has mentioned that after watching just 1 Oz episode you'll be hooked. They are right, as this is exactly what happened with me.<br /><br />The first thing that struck me about Oz was its brutality and unflinching scenes of violence, which set in right from the word GO. Trust me, this is not a show for the faint hearted or timid. This show pulls no punches with regards to drugs, sex or violence. Its is hardcore, in the classic use of the word.<br /><br />It is called OZ as that is the nickname given to the Oswald Maximum Security State Penitentary. It focuses mainly on Emerald City, an experimental section of the prison where all the cells have glass fronts and face inwards, so privacy is not high on the agenda. Em City is home to many..Aryans, Muslims, gangstas, Latinos, Christians, Italians, Irish and more....so scuffles, death stares, dodgy dealings and shady agreements are never far away.<br /><br />I would say the main appeal of the show is due to the fact that it goes where other shows wouldn't dare. Forget pretty pictures painted for mainstream audiences, forget charm, forget romance...OZ doesn't mess around. The first episode I ever saw struck me as so nasty it was surreal, I couldn't say I was ready for it, but as I watched more, I developed a taste for Oz, and got accustomed to the high levels of graphic violence. Not just violence, but injustice (crooked guards who'll be sold out for a nickel, inmates who'll kill on order and get away with it, well mannered, middle class inmates being turned into prison bitches due to their lack of street skills or prison experience) Watching Oz, you may become comfortable with what is uncomfortable viewing....thats if you can get in touch with your darker side.\"\n",
            " 'A wonderful little production. <br /><br />The filming technique is very unassuming- very old-time-BBC fashion and gives a comforting, and sometimes discomforting, sense of realism to the entire piece. <br /><br />The actors are extremely well chosen- Michael Sheen not only \"has got all the polari\" but he has all the voices down pat too! You can truly see the seamless editing guided by the references to Williams\\' diary entries, not only is it well worth the watching but it is a terrificly written and performed piece. A masterful production about one of the great master\\'s of comedy and his life. <br /><br />The realism really comes home with the little things: the fantasy of the guard which, rather than use the traditional \\'dream\\' techniques remains solid then disappears. It plays on our knowledge and our senses, particularly with the scenes concerning Orton and Halliwell and the sets (particularly of their flat with Halliwell\\'s murals decorating every surface) are terribly well done.'\n",
            " 'I thought this was a wonderful way to spend time on a too hot summer weekend, sitting in the air conditioned theater and watching a light-hearted comedy. The plot is simplistic, but the dialogue is witty and the characters are likable (even the well bread suspected serial killer). While some may be disappointed when they realize this is not Match Point 2: Risk Addiction, I thought it was proof that Woody Allen is still fully in control of the style many of us have grown to love.<br /><br />This was the most I\\'d laughed at one of Woody\\'s comedies in years (dare I say a decade?). While I\\'ve never been impressed with Scarlet Johanson, in this she managed to tone down her \"sexy\" image and jumped right into a average, but spirited young woman.<br /><br />This may not be the crown jewel of his career, but it was wittier than \"Devil Wears Prada\" and more interesting than \"Superman\" a great comedy to go see with friends.']\n"
          ],
          "name": "stdout"
        }
      ]
    },
    {
      "cell_type": "code",
      "metadata": {
        "id": "7WfnKf91VxkJ",
        "outputId": "1bd67a92-8f5e-48eb-89fa-242c8944b1e4",
        "colab": {
          "base_uri": "https://localhost:8080/",
          "height": 92
        }
      },
      "source": [
        "def preprocess_review(review_list):\n",
        "    \"\"\"\n",
        "    param: a list of string\n",
        "    return: a list of string\n",
        "    preprocess reviews by changing all alphabets to lowercase, removing punctuations, and cleaning html leftover code\n",
        "    \"\"\"\n",
        "    for i, review in enumerate(review_list):\n",
        "        review = review.replace('<br /><br />', ' ')\n",
        "        review = review.lower()\n",
        "        review = re.sub(r\"[^A-Za-z0-9' ]+\", '', review)\n",
        "        review = review.replace('  ', ' ')\n",
        "        review_list[i] = review\n",
        "    return review_list\n",
        "\n",
        "preprocessed_reviews = preprocess_review(reviews)\n",
        "print(preprocessed_reviews[:3])"
      ],
      "execution_count": 3,
      "outputs": [
        {
          "output_type": "stream",
          "text": [
            "[\"one of the other reviewers has mentioned that after watching just 1 oz episode you'll be hooked they are right as this is exactly what happened with me the first thing that struck me about oz was its brutality and unflinching scenes of violence which set in right from the word go trust me this is not a show for the faint hearted or timid this show pulls no punches with regards to drugs sex or violence its is hardcore in the classic use of the word it is called oz as that is the nickname given to the oswald maximum security state penitentary it focuses mainly on emerald city an experimental section of the prison where all the cells have glass fronts and face inwards so privacy is not high on the agenda em city is home to manyaryans muslims gangstas latinos christians italians irish and moreso scuffles death stares dodgy dealings and shady agreements are never far away i would say the main appeal of the show is due to the fact that it goes where other shows wouldn't dare forget pretty pictures painted for mainstream audiences forget charm forget romanceoz doesn't mess around the first episode i ever saw struck me as so nasty it was surreal i couldn't say i was ready for it but as i watched more i developed a taste for oz and got accustomed to the high levels of graphic violence not just violence but injustice crooked guards who'll be sold out for a nickel inmates who'll kill on order and get away with it well mannered middle class inmates being turned into prison bitches due to their lack of street skills or prison experience watching oz you may become comfortable with what is uncomfortable viewingthats if you can get in touch with your darker side\"\n",
            " \"a wonderful little production the filming technique is very unassuming very oldtimebbc fashion and gives a comforting and sometimes discomforting sense of realism to the entire piece the actors are extremely well chosen michael sheen not only has got all the polari but he has all the voices down pat too you can truly see the seamless editing guided by the references to williams' diary entries not only is it well worth the watching but it is a terrificly written and performed piece a masterful production about one of the great master's of comedy and his life the realism really comes home with the little things the fantasy of the guard which rather than use the traditional 'dream' techniques remains solid then disappears it plays on our knowledge and our senses particularly with the scenes concerning orton and halliwell and the sets particularly of their flat with halliwell's murals decorating every surface are terribly well done\"\n",
            " \"i thought this was a wonderful way to spend time on a too hot summer weekend sitting in the air conditioned theater and watching a lighthearted comedy the plot is simplistic but the dialogue is witty and the characters are likable even the well bread suspected serial killer while some may be disappointed when they realize this is not match point 2 risk addiction i thought it was proof that woody allen is still fully in control of the style many of us have grown to love this was the most i'd laughed at one of woody's comedies in years dare i say a decade while i've never been impressed with scarlet johanson in this she managed to tone down her sexy image and jumped right into a average but spirited young woman this may not be the crown jewel of his career but it was wittier than devil wears prada and more interesting than superman a great comedy to go see with friends\"]\n"
          ],
          "name": "stdout"
        }
      ]
    },
    {
      "cell_type": "code",
      "metadata": {
        "id": "tGlwUksABoH6",
        "outputId": "1ec261f8-8300-45ae-d2f9-deca394947f9",
        "colab": {
          "base_uri": "https://localhost:8080/",
          "height": 361
        }
      },
      "source": [
        "# to divide train & test sets\n",
        "test_sample_size = int(0.1*len(preprocessed_reviews))  # 10% of data as the validation set\n",
        "\n",
        "# for sentiment\n",
        "sentiment = [1 if x=='positive' else 0 for x in sentiment]\n",
        "\n",
        "# separate data to train & test sets\n",
        "X_test, X_train = (np.array(preprocessed_reviews[:test_sample_size]), \n",
        "                   np.array(preprocessed_reviews[test_sample_size:])\n",
        ")\n",
        "\n",
        "y_test, y_train = (np.array(sentiment[:test_sample_size]), \n",
        "                   np.array(sentiment[test_sample_size:])\n",
        ")\n",
        "\n",
        "tokenizer = Tokenizer(oov_token='<OOV>')  # for the unknown words\n",
        "tokenizer.fit_on_texts(X_train)\n",
        "\n",
        "vocab_count = len(tokenizer.word_index) + 1  # +1 is for padding\n",
        "\n",
        "# create padded sequences\n",
        "training_sequences = tokenizer.texts_to_sequences(X_train)  # tokenizer.word_index to see indexes\n",
        "training_padded = pad_sequences(training_sequences, padding='post')  # pad sequences with 0s \n",
        "\n",
        "testing_sequences = tokenizer.texts_to_sequences(X_test)  # tokenizer.word_index to see indexes\n",
        "testing_padded = pad_sequences(testing_sequences, padding='post')  # pad sequences with 0s \n",
        "\n",
        "input_length = len(testing_padded[0])  # length of all sequences\n",
        "\n",
        "\n",
        "# build a model\n",
        "model = keras.models.Sequential()\n",
        "model.add(keras.layers.Embedding(input_dim=vocab_count,\n",
        "                                 output_dim=6,\n",
        "                                 input_length=input_length,\n",
        "                                 mask_zero = True)\n",
        ")\n",
        "model.add(keras.layers.GlobalAveragePooling1D())  # find the average of vectors to get sentiment\n",
        "model.add(keras.layers.Dense(128, activation='relu'))  # hidden layer\n",
        "model.add(keras.layers.Dense(16, activation='relu'))  # hidden layer\n",
        "model.add(keras.layers.Dense(1, activation='sigmoid'))  # output layer\n",
        "\n",
        "model.compile(optimizer='adam',\n",
        "              loss='binary_crossentropy',\n",
        "              metrics=['accuracy'])\n",
        "\n",
        "print(model.summary())"
      ],
      "execution_count": 4,
      "outputs": [
        {
          "output_type": "stream",
          "text": [
            "Model: \"sequential\"\n",
            "_________________________________________________________________\n",
            "Layer (type)                 Output Shape              Param #   \n",
            "=================================================================\n",
            "embedding (Embedding)        (None, 1707, 6)           1022112   \n",
            "_________________________________________________________________\n",
            "global_average_pooling1d (Gl (None, 6)                 0         \n",
            "_________________________________________________________________\n",
            "dense (Dense)                (None, 128)               896       \n",
            "_________________________________________________________________\n",
            "dense_1 (Dense)              (None, 16)                2064      \n",
            "_________________________________________________________________\n",
            "dense_2 (Dense)              (None, 1)                 17        \n",
            "=================================================================\n",
            "Total params: 1,025,089\n",
            "Trainable params: 1,025,089\n",
            "Non-trainable params: 0\n",
            "_________________________________________________________________\n",
            "None\n"
          ],
          "name": "stdout"
        }
      ]
    },
    {
      "cell_type": "code",
      "metadata": {
        "id": "60n8u11yDx7u",
        "outputId": "989fd30d-b69d-4778-bb4c-39e0dcd1984a",
        "colab": {
          "base_uri": "https://localhost:8080/",
          "height": 273
        }
      },
      "source": [
        "model.fit(training_padded, y_train, epochs=5, batch_size=512,\n",
        "          validation_data=(testing_padded, y_test)\n",
        ")"
      ],
      "execution_count": 5,
      "outputs": [
        {
          "output_type": "stream",
          "text": [
            "Epoch 1/5\n",
            "WARNING:tensorflow:Model was constructed with shape (None, 1707) for input Tensor(\"embedding_input:0\", shape=(None, 1707), dtype=float32), but it was called on an input with incompatible shape (None, 2459).\n",
            "WARNING:tensorflow:Model was constructed with shape (None, 1707) for input Tensor(\"embedding_input:0\", shape=(None, 1707), dtype=float32), but it was called on an input with incompatible shape (None, 2459).\n",
            "88/88 [==============================] - 4s 48ms/step - loss: 0.6811 - accuracy: 0.6133 - val_loss: 0.6324 - val_accuracy: 0.7516\n",
            "Epoch 2/5\n",
            "88/88 [==============================] - 4s 47ms/step - loss: 0.4587 - accuracy: 0.8379 - val_loss: 0.3188 - val_accuracy: 0.8722\n",
            "Epoch 3/5\n",
            "88/88 [==============================] - 4s 48ms/step - loss: 0.2497 - accuracy: 0.9039 - val_loss: 0.2558 - val_accuracy: 0.8952\n",
            "Epoch 4/5\n",
            "88/88 [==============================] - 4s 47ms/step - loss: 0.1798 - accuracy: 0.9350 - val_loss: 0.2411 - val_accuracy: 0.9064\n",
            "Epoch 5/5\n",
            "88/88 [==============================] - 4s 47ms/step - loss: 0.1362 - accuracy: 0.9542 - val_loss: 0.2387 - val_accuracy: 0.9056\n"
          ],
          "name": "stdout"
        },
        {
          "output_type": "execute_result",
          "data": {
            "text/plain": [
              "<tensorflow.python.keras.callbacks.History at 0x7f4a7e863e48>"
            ]
          },
          "metadata": {
            "tags": []
          },
          "execution_count": 5
        }
      ]
    },
    {
      "cell_type": "code",
      "metadata": {
        "id": "71wlIbmAvYNi",
        "outputId": "b1f62076-af2c-49f7-a047-c0de4cc0a883",
        "colab": {
          "base_uri": "https://localhost:8080/",
          "height": 35
        }
      },
      "source": [
        "index_list = []\n",
        "predictions = model.predict(testing_padded)\n",
        "predictions = ['negative' if x <= 0.5 else 'positive' for x in predictions]\n",
        "y_test = ['negative' if x <= 0.5 else 'positive' for x in y_test]\n",
        "for i, (prediction, truth) in enumerate(zip(predictions, y_test)):\n",
        "    if prediction != truth:\n",
        "        index_list.append(i)\n",
        "\n",
        "print(f'The model has predicted {len(index_list)} wrong of {len(predictions)}')"
      ],
      "execution_count": 6,
      "outputs": [
        {
          "output_type": "stream",
          "text": [
            "The model has predicted 472 wrong of 5000\n"
          ],
          "name": "stdout"
        }
      ]
    },
    {
      "cell_type": "code",
      "metadata": {
        "id": "7ll59I04vl0M",
        "outputId": "9bbb0462-2ae8-4583-cf36-504a3e3c3b2e",
        "colab": {
          "base_uri": "https://localhost:8080/",
          "height": 472
        }
      },
      "source": [
        "for i, item in enumerate(index_list):\n",
        "    if i <= 5:\n",
        "        print(X_test[item])\n",
        "        print(f'Prediction: {predictions[item]}')\n",
        "        print(f'Sentiment: {y_test[item]}')\n",
        "        print('============================')"
      ],
      "execution_count": 7,
      "outputs": [
        {
          "output_type": "stream",
          "text": [
            "the cast played shakespeare shakespeare lost i appreciate that this is trying to bring shakespeare to the masses but why ruin something so good is it because 'the scottish play' is my favorite shakespeare i do not know what i do know is that a certain rev bowdler hence bowdlerization tried to do something similar in the victorian era in other words you cannot improve perfection i have no more to write but as i have to write at least ten lines of text and english composition was never my forte i will just have to keep going and say that this movie as the saying goes just does not cut it\n",
            "Prediction: positive\n",
            "Sentiment: negative\n",
            "============================\n",
            "some films just simply should not be remade this is one of them in and of itself it is not a bad film but it fails to capture the flavor and the terror of the 1963 film of the same title liam neeson was excellent as he always is and most of the cast holds up with the exception of owen wilson who just did not bring the right feel to the character of luke but the major fault with this version is that it strayed too far from the shirley jackson story in it's attempts to be grandiose and lost some of the thrill of the earlier film in a trade off for snazzier special effects again i will say that in and of itself it is not a bad film but you will enjoy the friction of terror in the older version much more\n",
            "Prediction: negative\n",
            "Sentiment: positive\n",
            "============================\n",
            "bela lugosi appeared in several of these low budget chillers for monogram studios in the 1940's and the corpse vanishes is one of the better ones bela plays a mad scientist who kidnaps young brides and kills them and then extracts fluid from their bodies so he can keep his ageing wife looking young after a reporter and a doctor stay the night at his home and discover he is responsible for the brides' deaths the following morning they report these murders to the police and the mad scientist is shot and drops dead shortly afterwards you have got almost everything in this movie the scientist's assistants consist of an old hag a hunchback and dwarf her sons a thunderstorm and spooky passages in bela's house bela and his wife find they sleep better in coffins rather than beds in the movie the corpse vanishes is worth a look especially for bela lugosi fans great fun rating 3 stars out of 5\n",
            "Prediction: negative\n",
            "Sentiment: positive\n",
            "============================\n",
            "the 33 percent of the nations nitwits that still support w bush would do well to see this movie which shows the aftermath of the french revolution and the terror of 1794 as strikingly similar to the post 911 sociopolitical landscape maybe then they could stop worrying about saving face and take the awhupping they deserve it's really a shame that when a politician ruins the country those who voted for him can't be denied the right to ever vote again they've clearly shown they have no sense of character what really stands out in this movie is the ambiguity of a character as hopelessly doctrinaire as robespierre a haunted empty man who simplistic reductive ideology can't help him elucidate the boundaries between safety and totalitarianism execution and murder selfdefense and patriotism his legalistic litmus tests aggravate the hopeless situation he's helped create sound like any belligerent overprivileged retarded yale cheerleaders you know of wojciech pszoniak blows the slovenly deparidieu off the screen as sympathetic as robespierres plight is it's comforting to know that shortly after the film ends he'll have his jaw shot off and be sent to the guillotine\n",
            "Prediction: positive\n",
            "Sentiment: negative\n",
            "============================\n",
            "i really like salman kahn so i was really disappointed when i seen this movie it didn't have much of a plot and what they did have was not that appealing salman however did look good in the movie looked young and refreshed but was worth the price of this dvd the music was not bad it was quite nice usually indian movies are at least two to three hours long but this was a very short movie for an indian film the american actress that played in the movie is from the television hit series heroes ali larter her acting had a lot to be desired however she did look good in the indian dresses that she wore all the movie had not a lot to be desired and i hope salman does a lot better on his next movie thank you\n",
            "Prediction: positive\n",
            "Sentiment: negative\n",
            "============================\n",
            "honestly this short film sucks the dummy used in the necro scene is pretty well made but still phony enough looking to ruin the viewing experience the unearthed dvd is crisp and clear and i haven't made up my mind if this helps or hinders it if the film was a little grainy it might have added some creepiness factor to what was going on i have no idea why this film has so much hype surrounding it other than the subject matter but to be honest the necrophilia scenes in films like nekromantik and visitor q among others are more shocking than in aftermath all this talk about the film being about loneliness and all other manner of deep philosophy is bull this is an expensive beautifully filmed turd it's not that shocking it's not that disgusting if you insist on viewing it rent it i give it a 3 for the fact that not many people make explicit movies about necrophilia there should definitely be a bigger selection for us sickos  the filming is good and it does have some gore if watching a rubbery looking doll get cut open is considered gore but other than that absolutely nothing going for this overhyped mess on the other hand genesis cerda's sequel to aftermath now available as a double feature released by unearthed films is an absolute masterpiece of a short film really showing what a good director cerda really is when given the right material although i don't care for aftermath at all genesis is so well made that i will forgive cerda and definitely keep an eye out for him in the future\n",
            "Prediction: positive\n",
            "Sentiment: negative\n",
            "============================\n"
          ],
          "name": "stdout"
        }
      ]
    },
    {
      "cell_type": "markdown",
      "metadata": {
        "id": "QCDFvLkkvqIU"
      },
      "source": [
        "The model made good assumptions for most of them, but it got easily confused by words like 'good', 'bad', 'well', etc. "
      ]
    },
    {
      "cell_type": "markdown",
      "metadata": {
        "id": "YbnWtDS4D93N"
      },
      "source": [
        "LSTM Model"
      ]
    },
    {
      "cell_type": "code",
      "metadata": {
        "id": "J5o3OGe0P0rT"
      },
      "source": [
        "y_test = [0 if x == 'negative' else 1 for x in y_test]\n",
        "\n",
        "# the model takes numpy arrays as inputs\n",
        "y_test = np.asarray(y_test).astype(np.float32)\n",
        "y_train = np.asarray(y_train).astype(np.float32)\n",
        "\n",
        "for i, (train_item, test_item) in enumerate(zip(training_padded, testing_padded)):\n",
        "    training_padded[i] = np.asarray(train_item).astype(np.float32)\n",
        "    testing_padded[i] = np.asarray(test_item).astype(np.float32)"
      ],
      "execution_count": 8,
      "outputs": []
    },
    {
      "cell_type": "code",
      "metadata": {
        "id": "NrAS0p3bEBZT",
        "outputId": "09278010-0ffa-4f5c-cafc-7c162012f267",
        "colab": {
          "base_uri": "https://localhost:8080/",
          "height": 325
        }
      },
      "source": [
        "from tensorflow.keras.layers import SpatialDropout1D, Embedding, LSTM, Bidirectional, Dense\n",
        "\n",
        "new_model = keras.models.Sequential()\n",
        "new_model.add(Embedding(input_dim=vocab_count,\n",
        "                        output_dim=6,\n",
        "                        input_length=input_length))\n",
        "new_model.add(Bidirectional(tf.keras.layers.LSTM(16, dropout=0.2)))\n",
        "new_model.add(Dense(16, activation='relu'))\n",
        "new_model.add(Dense(1, activation='sigmoid'))\n",
        "new_model.compile(optimizer='adam',\n",
        "                  loss='binary_crossentropy',\n",
        "                  metrics=['accuracy'])\n",
        "\n",
        "print(new_model.summary())"
      ],
      "execution_count": 9,
      "outputs": [
        {
          "output_type": "stream",
          "text": [
            "Model: \"sequential_1\"\n",
            "_________________________________________________________________\n",
            "Layer (type)                 Output Shape              Param #   \n",
            "=================================================================\n",
            "embedding_1 (Embedding)      (None, 1707, 6)           1022112   \n",
            "_________________________________________________________________\n",
            "bidirectional (Bidirectional (None, 32)                2944      \n",
            "_________________________________________________________________\n",
            "dense_3 (Dense)              (None, 16)                528       \n",
            "_________________________________________________________________\n",
            "dense_4 (Dense)              (None, 1)                 17        \n",
            "=================================================================\n",
            "Total params: 1,025,601\n",
            "Trainable params: 1,025,601\n",
            "Non-trainable params: 0\n",
            "_________________________________________________________________\n",
            "None\n"
          ],
          "name": "stdout"
        }
      ]
    },
    {
      "cell_type": "code",
      "metadata": {
        "id": "_QZJLU7hEH8Q",
        "outputId": "16fce0d6-4d6c-4f5d-f13d-12471ecb094e",
        "colab": {
          "base_uri": "https://localhost:8080/",
          "height": 253
        }
      },
      "source": [
        "new_model.fit(training_padded, y_train, epochs=5, batch_size=512,\n",
        "              validation_data=(testing_padded, y_test)\n",
        ")"
      ],
      "execution_count": 10,
      "outputs": [
        {
          "output_type": "stream",
          "text": [
            "Epoch 1/5\n",
            "WARNING:tensorflow:Model was constructed with shape (None, 1707) for input Tensor(\"embedding_1_input:0\", shape=(None, 1707), dtype=float32), but it was called on an input with incompatible shape (None, 2459).\n",
            "WARNING:tensorflow:Model was constructed with shape (None, 1707) for input Tensor(\"embedding_1_input:0\", shape=(None, 1707), dtype=float32), but it was called on an input with incompatible shape (None, 2459).\n",
            "88/88 [==============================] - 20s 226ms/step - loss: 0.6812 - accuracy: 0.5816 - val_loss: 0.6236 - val_accuracy: 0.7438\n",
            "Epoch 2/5\n",
            "88/88 [==============================] - 20s 223ms/step - loss: 0.4642 - accuracy: 0.8102 - val_loss: 0.3596 - val_accuracy: 0.8488\n",
            "Epoch 3/5\n",
            "88/88 [==============================] - 20s 222ms/step - loss: 0.2528 - accuracy: 0.9040 - val_loss: 0.2531 - val_accuracy: 0.9002\n",
            "Epoch 4/5\n",
            "88/88 [==============================] - 19s 221ms/step - loss: 0.1640 - accuracy: 0.9438 - val_loss: 0.2475 - val_accuracy: 0.9024\n",
            "Epoch 5/5\n",
            "88/88 [==============================] - 20s 223ms/step - loss: 0.1132 - accuracy: 0.9643 - val_loss: 0.2666 - val_accuracy: 0.9040\n"
          ],
          "name": "stdout"
        },
        {
          "output_type": "execute_result",
          "data": {
            "text/plain": [
              "<tensorflow.python.keras.callbacks.History at 0x7f4a1e2bc6a0>"
            ]
          },
          "metadata": {
            "tags": []
          },
          "execution_count": 10
        }
      ]
    }
  ]
}